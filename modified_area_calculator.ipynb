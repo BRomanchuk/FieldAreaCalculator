{
 "cells": [
  {
   "cell_type": "code",
   "execution_count": 1,
   "id": "ac332a44-2417-4c3e-a5d4-49dba8ba3998",
   "metadata": {},
   "outputs": [],
   "source": [
    "import numpy as np\n",
    "import pandas as pd\n",
    "\n",
    "from shapely import Polygon, LineString, Point\n",
    "from shapely.ops import unary_union\n",
    "from shapely import wkt\n",
    "\n",
    "import utm\n",
    "import ast"
   ]
  },
  {
   "cell_type": "code",
   "execution_count": 2,
   "id": "8770dabc-ef37-4db9-8dca-0826f647fb5e",
   "metadata": {},
   "outputs": [],
   "source": [
    "def from_latlon(latitude, longitude, geozone_num, geozone_let):\n",
    "    \"\"\"\n",
    "    convert lat, lon to (x, y) coordinates (in meters)\n",
    "    :param latitude:  list or np.array (shape: (n,))\n",
    "    :param longitude: list or np.array (shape: (n,))\n",
    "    :param geozone_num: geozone integer\n",
    "    :param geozone_let: geozone letter\n",
    "    :return: np.array of (x, y) coordinates (shape: (n, 2))\n",
    "    \"\"\"\n",
    "    xy = np.array([\n",
    "        utm.from_latlon(\n",
    "            latitude=lat, \n",
    "            longitude=lon, \n",
    "            force_zone_number=geozone_num,\n",
    "            force_zone_letter=geozone_let\n",
    "        )[:2] for lat, lon in zip(latitude, longitude)\n",
    "    ])\n",
    "    return xy\n",
    "\n",
    "\n",
    "\n",
    "def get_subfields_xy(field_bounds: list, geozone_num, geozone_let):\n",
    "    \"\"\"\n",
    "    convert GPS bounds of field into (x, y) coordinates (in meters)\n",
    "    :param field_bounds: list with GPS bounds of subfields\n",
    "    :return: list of (x, y) bounds of the subfields\n",
    "    \"\"\"\n",
    "    subfields = [np.array(subfield).T for subfield in field_bounds]\n",
    "    bounds_xy = [from_latlon(field[1], field[0], geozone_num, geozone_let) for field in subfields]\n",
    "    return bounds_xy\n",
    "\n",
    "\n",
    "\n",
    "def get_bounds_from_string(field_bounds_str : str):\n",
    "    \"\"\"\n",
    "    convert string representation of the bounds into list\n",
    "    :param field_bounds_str: string representation of the bounds\n",
    "    :return: list of bounds of the subfields\n",
    "    \"\"\"\n",
    "    if field_bounds_str[:4] == '[[[[':\n",
    "        field_bounds_str = field_bounds_str.replace('[[[', '[[').replace(']]]', ']]')\n",
    "    field_bounds = ast.literal_eval(field_bounds_str) \n",
    "    return field_bounds\n",
    "\n",
    "\n",
    "\n",
    "def get_geozone(latitude, longitude):\n",
    "    \"\"\"\n",
    "    :param latitude: \n",
    "    :param longitude: \n",
    "    :return: UTM geozone number and letter\n",
    "    \"\"\"\n",
    "    geozone_num, geozone_let = utm.from_latlon(latitude, longitude)[2:]\n",
    "    return geozone_num, geozone_let\n",
    "\n",
    "\n",
    "\n",
    "def get_polygon_from_str_bounds(field_bounds_str, geozone_num, geozone_let):\n",
    "    # get GPS field bounds from string representation\n",
    "    field_bounds = get_bounds_from_string(field_bounds_str)\n",
    "    # convert GPS field bounds to XY and create field_polygon\n",
    "    subfields_xy = get_subfields_xy(field_bounds, geozone_num, geozone_let)\n",
    "    field_polygon = unary_union([\n",
    "        Polygon(subfield).buffer(0) if len(subfield) > 1 else None for subfield in subfields_xy\n",
    "    ])\n",
    "    return field_polygon"
   ]
  },
  {
   "cell_type": "markdown",
   "id": "772b3027-13c4-4894-9781-be077ccd75b0",
   "metadata": {},
   "source": [
    "# Main function : area and distance calculator"
   ]
  },
  {
   "cell_type": "code",
   "execution_count": 3,
   "id": "8b78a962-4493-44a6-b728-4636fcc2b9a3",
   "metadata": {},
   "outputs": [],
   "source": [
    "def get_area_and_distance(\n",
    "    tool_width : float,\n",
    "    gps_m_deviation : float,\n",
    "    \n",
    "    time : list,\n",
    "    track_lat : list,\n",
    "    track_lon : list,\n",
    "    \n",
    "    field_bounds_str : str,\n",
    "    \n",
    "    encoded_field_polygon : str = None,\n",
    "    encoded_calculated_track : str = None,\n",
    "    \n",
    "    gps_geozone_num : int = None,\n",
    "    gps_geozone_let : str = None,\n",
    "    \n",
    "    last_point_xy : list = None,\n",
    "    \n",
    "    last_path_distance : float = 0,\n",
    "    simplification_m = 0.45\n",
    "):\n",
    "    \"\"\"\n",
    "    calculates cumulative path distances and processed field area\n",
    "    :param tool_width: float : tool-width\n",
    "    :param gps_m_deviation: float : GPS deviation in meters\n",
    "    :param time: list timestamps\n",
    "    :param track_lat: list of track latitudes\n",
    "    :param track_lon: list of track longitudes\n",
    "    :param field_bounds_str: string with raw GPS field bounds\n",
    "    :param encoded_field_polygon:  encoded version of the polygon in XY-system\n",
    "    :param encoded_calculated_track: encoded version of the polygon in XY-system\n",
    "    :param gps_geozone_num: GPS geozone number (UTM)\n",
    "    :param gps_geozone_let: GPS geozone letter (UTM)\n",
    "    :param last_point_xy: XY-coordinates of the last point of calculated track\n",
    "    :param last_path_distance: last calculated path distance\n",
    "    :param simplification_m: tolerance for the simplification of the calculated track\n",
    "    :return: list of cumulative path distances and areas, \n",
    "            and updated parameters of the track and field\n",
    "    \"\"\"\n",
    "    \n",
    "    # init field_polygon\n",
    "    field_polygon = None\n",
    "    \n",
    "    # calculate track buffer as the sum of tool-width and GPS deviation\n",
    "    buffer = (tool_width + gps_m_deviation) / 2\n",
    "    \n",
    "    # if GPS geozone is not defined\n",
    "    if gps_geozone_num is None or gps_geozone_let is None:\n",
    "        # define geozone num and let\n",
    "        gps_geozone_num, gps_geozone_let = get_geozone(track_lat[0], track_lon[0])\n",
    "        # get field polygon from string bounds\n",
    "        field_polygon = get_polygon_from_str_bounds(field_bounds_str, gps_geozone_num, gps_geozone_let)\n",
    "        # simplify the field polygon to fasten the computations\n",
    "        field_polygon = field_polygon.simplify(simplification_m*2)\n",
    "        # create encoded version of the field polygon\n",
    "        encoded_field_polygon = field_polygon.wkt\n",
    "        \n",
    "    # convert GPS coordinates of the track \n",
    "    track_xy = from_latlon(track_lat, track_lon, gps_geozone_num, gps_geozone_let)\n",
    "    \n",
    "    # if the field polygon isn't defined\n",
    "    if field_polygon is None:\n",
    "        # and its encoded version isn't defined\n",
    "        if encoded_field_polygon is None:\n",
    "            # get field polygon from string bounds\n",
    "            field_polygon = get_polygon_from_str_bounds(field_bounds_str, gps_geozone_num, gps_geozone_let)\n",
    "            # simplify the field polygon to fasten the computations\n",
    "            field_polygon = field_polygon.simplify(simplification_m*2)\n",
    "            # create encoded version of the field polygon\n",
    "            encoded_field_polygon = field_polygon.wkt\n",
    "        else:\n",
    "            # load field polygon from encoded version\n",
    "            field_polygon = wkt.loads(encoded_field_polygon)\n",
    "    \n",
    "    \n",
    "    # if the last processed point isn't defined\n",
    "    if last_point_xy is None: \n",
    "        # then it is the first point of the current track\n",
    "        last_point_xy = track_xy[0]\n",
    "    # add last processed point to the track\n",
    "    track_xy = np.concatenate([[last_point_xy], track_xy])\n",
    "    \n",
    "    \n",
    "    # if the encoded calculated track representation isn't defined\n",
    "    if encoded_calculated_track is None:\n",
    "        # create empty calculated track \n",
    "        calculated_track = LineString([])\n",
    "    else:\n",
    "        # load calculated track from encoded version\n",
    "        calculated_track = wkt.loads(encoded_calculated_track)\n",
    "        \n",
    "        \n",
    "    # create cumulative path distance and area arrays\n",
    "    path_distance = np.concatenate([[last_path_distance], np.zeros(len(time)-1)])\n",
    "    field_processed = np.concatenate([[calculated_track.area], np.zeros(len(time)-1)])\n",
    "    \n",
    "    \n",
    "    # calculation loop : for two consecutive track points (i, i+1)\n",
    "    for i in range(len(time)-1):\n",
    "        # create LineString object as a subtrack\n",
    "        subtrack = LineString(track_xy[i : i+2])\n",
    "        # compute distance between these points, and add new cumulative distance to the list\n",
    "        path_distance[i+1] = path_distance[i] + subtrack.length\n",
    "\n",
    "        # add buffer to the subtrack, and intersect it with the field polygon\n",
    "        subfield = subtrack.buffer(buffer) \\\n",
    "                           .intersection(field_polygon) \n",
    "        # add this intersection to the preprocessed track\n",
    "        calculated_track = calculated_track.union(subfield)\n",
    "        \n",
    "        # create simplified track to fasten the computations\n",
    "        simplified = calculated_track.simplify(simplification_m, preserve_topology=False)\n",
    "        # if the difference in areas is small, use simplified track as a new calculated track\n",
    "        if np.abs(simplified.area - calculated_track.area) < (tool_width * gps_m_deviation / 2):\n",
    "            calculated_track = simplified\n",
    "            \n",
    "        # add new cumulative area to the list\n",
    "        field_processed[i+1] = calculated_track.area   \n",
    "\n",
    "    # create output dictionary\n",
    "    distance_and_area_calculator = {\n",
    "        'encoded_field_polygon' : encoded_field_polygon,\n",
    "        'encoded_calculated_track' : calculated_track.wkt,\n",
    "\n",
    "        'gps_geozone_num' : gps_geozone_num,\n",
    "        'gps_geozone_let' : gps_geozone_let,\n",
    "\n",
    "        'last_point_xy' : track_xy[-1],\n",
    "        \n",
    "        'path_distance' : path_distance,\n",
    "        'field_processed' : field_processed\n",
    "    }\n",
    "    \n",
    "    return distance_and_area_calculator"
   ]
  },
  {
   "cell_type": "markdown",
   "id": "9f71c5e4-eaef-467d-8346-83fd3c8aa645",
   "metadata": {},
   "source": [
    "# Test"
   ]
  },
  {
   "cell_type": "code",
   "execution_count": 4,
   "id": "e35da0cf-6960-4348-a27f-5fa7ed5956e4",
   "metadata": {},
   "outputs": [
    {
     "data": {
      "text/plain": [
       "'[[[23.986974113,50.082048644,-'"
      ]
     },
     "execution_count": 4,
     "metadata": {},
     "output_type": "execute_result"
    }
   ],
   "source": [
    "df = pd.read_csv('../fields-data/new_fields_500.csv')\n",
    "field_bounds_str = df.iloc[17]['geometry_coordinates']\n",
    "field_bounds_str[:30]"
   ]
  },
  {
   "cell_type": "code",
   "execution_count": 5,
   "id": "bffaa587-f6a1-4c61-a2ed-bb6b953f5b27",
   "metadata": {},
   "outputs": [
    {
     "data": {
      "image/svg+xml": [
       "<svg xmlns=\"http://www.w3.org/2000/svg\" xmlns:xlink=\"http://www.w3.org/1999/xlink\" width=\"100.0\" height=\"100.0\" viewBox=\"23.973805938519998 50.07842341952 0.016076595960001328 0.012395321959999706\" preserveAspectRatio=\"xMinYMin meet\"><g transform=\"matrix(1,0,0,-1,0,100.169242161)\"><polyline fill=\"none\" stroke=\"#66cc99\" stroke-width=\"0.00032153191920002654\" points=\"23.986974113,50.082048644 23.987137975,50.082055936 23.98737461,50.08204757 23.987612571,50.082043275 23.98772949,50.082037483 23.987864186,50.08203402 23.987998881,50.082030556 23.988133578,50.082027093 23.988214434,50.08203369 23.988272913,50.082060784 23.988289635,50.082093763 23.98829358,50.082130881 23.988306111,50.082192003 23.988310905,50.082276474 23.988301056,50.082373033 23.988281443,50.082467857 23.988266265,50.082562127 23.988254632,50.082616888 23.988243,50.082671649 23.988231367,50.08272641 23.988219735,50.082781171 23.988208103,50.082835933 23.988194151,50.082926294 23.988183752,50.08298072 23.988173351,50.083035144 23.98816295,50.08308957 23.988152551,50.083143994 23.98814215,50.08319842 23.988128355,50.083260548 23.98811456,50.083322676 23.988100765,50.083384804 23.988088767,50.083445773 23.98807677,50.083506742 23.988064773,50.083567712 23.988055486,50.083622223 23.988046201,50.083676736 23.988036914,50.083731248 23.988027629,50.083785761 23.988018343,50.083840273 23.98800779,50.083894511 23.987997237,50.083948748 23.987986685,50.084002985 23.987976132,50.084057223 23.98796558,50.08411146 23.987951542,50.084173336 23.987937503,50.084235212 23.987923464,50.084297088 23.98791205,50.08439061 23.987906856,50.084453844 23.987901664,50.084517078 23.987896471,50.084580312 23.9878921,50.084637766 23.98788773,50.084695222 23.987883358,50.084752676 23.987878988,50.084810131 23.987874617,50.084867586 23.987871936,50.08493039 23.987869255,50.084993195 23.987866574,50.085055999 23.987863718,50.085107659 23.987860862,50.085159319 23.987858006,50.085210979 23.98785515,50.085262638 23.987852292,50.085314298 23.987849437,50.085365958 23.987846581,50.085417618 23.987843725,50.085469277 23.987840869,50.085520937 23.987838013,50.085572597 23.987835157,50.085624257 23.987832301,50.085675916 23.987829443,50.085727576 23.987819452,50.085822194 23.98780151,50.085913232 23.987792225,50.085972961 23.98778294,50.08603269 23.987773655,50.086092418 23.987738352,50.086270298 23.98771567,50.086357514 23.987696275,50.086443715 23.987684572,50.086529598 23.987685395,50.086614297 23.98771454,50.086701312 23.987760735,50.086787727 23.98781606,50.086873896 23.987877501,50.086957753 23.987941572,50.0870387 23.988011224,50.087119221 23.988080037,50.087202966 23.988146715,50.087290264 23.988184535,50.087338997 23.988222354,50.08738773 23.988260172,50.087436463 23.988297993,50.087485196 23.988335812,50.087533929 23.988373631,50.087582662 23.98841145,50.087631395 23.988459977,50.08769551 23.988508502,50.087759624 23.988557029,50.087823739 23.988605555,50.087887854 23.988654082,50.087951969 23.988765274,50.088112629 23.988817111,50.088194271 23.988868947,50.088275913 23.988920785,50.088357556 23.989037156,50.08851248 23.989090756,50.088587682 23.989144357,50.088662883 23.989197959,50.088738083 23.98922752,50.088814753 23.989264937,50.088904573 23.989287105,50.088969901 23.989278242,50.089037297 23.989138516,50.089108533 23.989011629,50.089160842 23.988801631,50.08924841 23.988676299,50.089301966 23.988495169,50.089396926 23.98839578,50.089456468 23.988309927,50.089508337 23.988216735,50.089567243 23.988132546,50.089626831 23.988065311,50.08967319 23.988000759,50.089719549 23.987944251,50.089762466 23.98788238,50.089808825 23.987815145,50.089853465 23.987758637,50.089904985 23.987699448,50.089947903 23.987619144,50.090010468 23.987444891,50.090113017 23.987332332,50.090156078 23.987205463,50.090195225 23.987085717,50.090222577 23.986962034,50.090223312 23.986848572,50.090199473 23.986748044,50.090152866 23.98663039,50.090103851 23.986511676,50.090036342 23.986396327,50.089967694 23.986316483,50.089922947 23.986236637,50.0898782 23.986156793,50.089833453 23.986043048,50.089759865 23.985935868,50.089679819 23.985843358,50.089587889 23.985783566,50.089483421 23.985741024,50.089377741 23.985710761,50.089272377 23.985672521,50.089169609 23.985630208,50.089068511 23.985585735,50.088970209 23.985533755,50.08887604 23.985466024,50.08878714 23.985411808,50.088730258 23.985357592,50.088673376 23.985303377,50.088616494 23.985222571,50.088529321 23.985135532,50.088444981 23.985044031,50.08836178 23.984939478,50.088283881 23.984866794,50.088233493 23.984794109,50.088183105 23.984721426,50.088132717 23.98461556,50.088056618 23.984547764,50.088006098 23.984479968,50.087955577 23.984412172,50.087905056 23.984353975,50.087852243 23.984295779,50.087799431 23.984237583,50.087746618 23.98416457,50.087663333 23.984099316,50.087577971 23.98403734,50.087490854 23.983981497,50.087402438 23.983937955,50.087312861 23.983902609,50.087222496 23.983882904,50.087167536 23.983863199,50.087112578 23.983843495,50.087057618 23.98382379,50.087002659 23.983804086,50.0869477 23.983779519,50.086851055 23.98376501,50.086752337 23.983738311,50.086655354 23.983674893,50.086563229 23.983594251,50.086476815 23.983504552,50.086394706 23.983412739,50.086315191 23.983354932,50.086262154 23.983297125,50.086209115 23.983239318,50.086156077 23.983147879,50.086078794 23.983084543,50.086027895 23.983021207,50.085976996 23.982957871,50.085926097 23.982903489,50.085881871 23.982849104,50.085837645 23.982794722,50.085793418 23.982740338,50.085749193 23.982685954,50.085704967 23.982602027,50.08564167 23.9825181,50.085578374 23.982434174,50.085515079 23.982352927,50.085461252 23.982268218,50.08541642 23.982175493,50.085383041 23.982063526,50.085355445 23.981970316,50.085339288 23.981877107,50.08532313 23.9817839,50.085306973 23.981639504,50.085288409 23.981550583,50.085281938 23.981461661,50.085275468 23.98137274,50.085268996 23.981283818,50.085262526 23.981194897,50.085256055 23.981111104,50.08525908 23.981024629,50.085258663 23.980914019,50.085261687 23.980830225,50.08525955 23.980730342,50.085259133 23.980630144,50.085257817 23.980524583,50.085249617 23.980427067,50.08524658 23.980257765,50.085243257 23.980109124,50.085240171 23.979971644,50.085235373 23.979861618,50.085224887 23.979762319,50.085217842 23.97966302,50.085205635 23.979506233,50.085183343 23.979415021,50.08516322 23.979323808,50.085143097 23.979232595,50.085122974 23.979086566,50.085079187 23.978944064,50.085028162 23.978803824,50.084973956 23.978633617,50.084904946 23.978496824,50.084837389 23.978355723,50.084774056 23.978284778,50.084745429 23.978213835,50.084716801 23.978142892,50.084688174 23.978071948,50.084659547 23.978001005,50.084630919 23.977930061,50.084602292 23.977859118,50.084573664 23.977788176,50.084545037 23.977717232,50.084516409 23.977646289,50.084487782 23.977575346,50.084459153 23.977504403,50.084430526 23.97743346,50.084401898 23.977362519,50.08437327 23.977291576,50.084344643 23.977173094,50.084282122 23.977062346,50.08421841 23.976955139,50.084150779 23.976862915,50.084072545 23.976784205,50.083989736 23.976738575,50.083931206 23.976692944,50.083872677 23.976647315,50.083814147 23.976604896,50.083753703 23.976562477,50.083693259 23.976520058,50.083632814 23.976455599,50.083546288 23.976412607,50.083490177 23.976369615,50.083434066 23.976326623,50.083377954 23.976289576,50.083328568 23.97625253,50.083279181 23.976215483,50.083229794 23.976178437,50.083180407 23.97614139,50.083131021 23.976082552,50.083048307 23.976027346,50.082963916 23.975993629,50.08291537 23.975959912,50.082866824 23.975926195,50.082818278 23.975892478,50.082769732 23.975858762,50.082721186 23.975825045,50.082672641 23.975791329,50.082624095 23.975757613,50.082575549 23.975723896,50.082527003 23.97566551,50.082435559 23.975624988,50.082375234 23.975584468,50.082314909 23.975543948,50.082254585 23.975475603,50.08216578 23.975412996,50.082076778 23.97537063,50.082019563 23.975328262,50.081962346 23.975285895,50.08190513 23.975222712,50.081823154 23.975162794,50.081739707 23.975052411,50.081575446 23.97501036,50.081509901 23.974968311,50.081444357 23.974926262,50.081378813 23.974884213,50.081313269 23.974842164,50.081247726 23.974757271,50.081081696 23.974661831,50.080917768 23.974621883,50.080834535 23.974579237,50.080752356 23.974541745,50.080669686 23.974476353,50.080514219 23.974414511,50.080377473 23.974401368,50.08031665 23.974426705,50.080259393 23.974494604,50.080223513 23.974601956,50.080200562 23.974856028,50.080154394 23.975108961,50.080112804 23.975235956,50.080089049 23.975363438,50.08006711 23.975618709,50.080017899 23.975750017,50.079991326 23.975881324,50.079964752 23.976012631,50.079938178 23.976102949,50.079922476 23.976193266,50.079906776 23.976283582,50.079891074 23.976415131,50.079866092 23.976545471,50.079845568 23.976671147,50.079823344 23.976924801,50.079781566 23.97718173,50.079735274 23.977447548,50.079690583 23.977576393,50.079669218 23.977705236,50.079647853 23.97783408,50.079626488 23.977957534,50.079605104 23.978205081,50.079557664 23.978335258,50.079536216 23.978465692,50.079516664 23.978727412,50.079468307 23.978856716,50.079441985 23.979115724,50.079395761 23.979361778,50.07934458 23.979597484,50.079300305 23.979831723,50.079251411 23.97990679,50.07923677 23.979981858,50.079222129 23.980056924,50.079207488 23.980131992,50.079192847 23.980207059,50.079178205 23.980282127,50.079163565 23.980357193,50.079148923 23.98043226,50.079134282 23.980507328,50.07911964 23.980620111,50.079099823 23.980708422,50.079085739 23.980796734,50.079071656 23.980885046,50.079057572 23.980973356,50.079043489 23.981061668,50.079029405 23.981171612,50.079018849 23.981283941,50.079020545 23.981384175,50.079036453 23.981467873,50.079058441 23.981530836,50.079083712 23.981581549,50.079118334 23.98161422,50.079175434 23.981632183,50.079229896 23.981650146,50.079284358 23.981668109,50.079338821 23.981686072,50.079393284 23.981704036,50.079447746 23.981728538,50.079537977 23.981756953,50.079626996 23.981794627,50.079731713 23.981819777,50.079798408 23.981844928,50.079865102 23.981870079,50.079931796 23.98189523,50.079998489 23.98192038,50.080065183 23.981935227,50.080119722 23.981950075,50.08017426 23.981964923,50.080228798 23.981979772,50.080283336 23.98199462,50.080337875 23.982000356,50.080404852 23.981993949,50.08046482 23.981996847,50.080514121 23.982038116,50.080566451 23.982106452,50.080631399 23.982162433,50.080717354 23.982197809,50.080807521 23.982236397,50.080896307 23.982254289,50.080945796 23.98227218,50.080995285 23.982290073,50.081044774 23.982307965,50.081094264 23.982325858,50.081143753 23.98234375,50.081193242 23.982361643,50.081242731 23.982379535,50.08129222 23.982397427,50.08134171 23.98241532,50.081391199 23.982433212,50.081440688 23.982451105,50.081490177 23.982468998,50.081539666 23.982489017,50.081590125 23.982509036,50.081640584 23.982529055,50.081691043 23.982549075,50.081741503 23.982569095,50.081791962 23.982589114,50.08184242 23.982609133,50.081892879 23.982673228,50.081968319 23.98276566,50.082032121 23.982884409,50.082079913 23.983005482,50.082123388 23.983131413,50.082159144 23.9832628,50.082187261 23.983400451,50.082204301 23.983545266,50.082207104 23.983694685,50.082199324 23.983779519,50.082195559 23.98386435,50.082191795 23.983949184,50.082188031 23.984034016,50.082184266 23.984118849,50.082180502 23.984203681,50.082176737 23.984288515,50.082172972 23.984436503,50.082163864 23.984533424,50.082160478 23.984630346,50.082157092 23.984727267,50.082153706 23.984826489,50.082147124 23.98492571,50.082140541 23.985024931,50.08213396 23.985172704,50.082126047 23.985267561,50.082122317 23.985362416,50.082118588 23.985457272,50.082114859 23.985598383,50.082104775 23.985738451,50.082101389 23.985877794,50.082093254 23.986014408,50.082087858 23.986146444,50.082085732 23.986275466,50.082079982 23.986397748,50.082077122 23.986618946,50.082065414 23.986865775,50.082055169 23.986974113,50.082048644\" opacity=\"0.8\" /></g></svg>"
      ],
      "text/plain": [
       "<LINESTRING (23.987 50.082, 23.987 50.082, 23.987 50.082, 23.988 50.082, 23....>"
      ]
     },
     "execution_count": 5,
     "metadata": {},
     "output_type": "execute_result"
    }
   ],
   "source": [
    "bound_path = np.array(get_bounds_from_string(field_bounds_str)[0])[:,:2]\n",
    "LineString(bound_path)"
   ]
  },
  {
   "cell_type": "code",
   "execution_count": 6,
   "id": "e7c180d9-9067-45f6-8854-8b52091f46fd",
   "metadata": {},
   "outputs": [
    {
     "data": {
      "text/plain": [
       "451"
      ]
     },
     "execution_count": 6,
     "metadata": {},
     "output_type": "execute_result"
    }
   ],
   "source": [
    "len(bound_path)"
   ]
  },
  {
   "cell_type": "code",
   "execution_count": 7,
   "id": "efbd4c20-0e40-4f0c-9e30-c4f53c47b653",
   "metadata": {},
   "outputs": [],
   "source": [
    "# start_point = np.array([50.067829, 23.983841])[::-1]\n",
    "\n",
    "\n",
    "# diff_x = np.random.uniform(0.0100, 0.011000, 900)/700\n",
    "# diff_y = np.random.uniform(-0.00001, 0.000007, 900)\n",
    "\n",
    "# path = [start_point]\n",
    "# for dx, dy in zip(diff_x, diff_y):\n",
    "#     path.append(path[-1] + np.array([dx, dy]))\n",
    "# path = np.array(path)\n",
    "\n",
    "# linepath = LineString(path)\n",
    "# linepath.union(LineString(bound_path))"
   ]
  },
  {
   "cell_type": "markdown",
   "id": "67b699f1-7d1f-4a27-be7a-eaa79b812aa2",
   "metadata": {
    "tags": []
   },
   "source": [
    "# Time test for 3 consecutive 300-coordinate tracks "
   ]
  },
  {
   "cell_type": "code",
   "execution_count": null,
   "id": "cb67795b-7975-4ae4-91f2-dc1aafd94585",
   "metadata": {},
   "outputs": [],
   "source": [
    "# parameters\n",
    "path = bound_path\n",
    "\n",
    "track_len = 300 if len(path) > 300 else len(path)\n",
    "\n",
    "tool_width = 10\n",
    "time = np.ones(track_len)\n",
    "\n",
    "track_lon, track_lat = list(path[:track_len].T)"
   ]
  },
  {
   "cell_type": "code",
   "execution_count": null,
   "id": "de6905dc-64f2-41e6-a52b-13dd2eb69ad6",
   "metadata": {},
   "outputs": [],
   "source": [
    "len(path)"
   ]
  },
  {
   "cell_type": "markdown",
   "id": "d50c0b6c-435b-4b3c-918a-64fb1a48ba09",
   "metadata": {},
   "source": [
    "## First 300 coords"
   ]
  },
  {
   "cell_type": "code",
   "execution_count": null,
   "id": "6409d36c-529b-4da3-ad58-e3f1ca339aff",
   "metadata": {},
   "outputs": [],
   "source": [
    "%%time\n",
    "first_300 = get_area_and_distance(\n",
    "    tool_width=tool_width,\n",
    "    gps_m_deviation=1,\n",
    "    \n",
    "    time=time,\n",
    "    track_lat=track_lat,\n",
    "    track_lon=track_lon,\n",
    "    \n",
    "    field_bounds_str=field_bounds_str\n",
    ")"
   ]
  },
  {
   "cell_type": "markdown",
   "id": "b1b5b398-9e39-48de-9ffe-d0d5da2bb09f",
   "metadata": {},
   "source": [
    "## Second 300 coords"
   ]
  },
  {
   "cell_type": "code",
   "execution_count": null,
   "id": "d021595f-54a4-411d-80f0-fc0d616a1857",
   "metadata": {},
   "outputs": [],
   "source": [
    "track_lon, track_lat = path[track_len : track_len*2].T\n",
    "# track_lon, track_lat = path[track_len : ].T"
   ]
  },
  {
   "cell_type": "code",
   "execution_count": null,
   "id": "8d7281f7-666f-4d68-bcc7-7950f8a8303f",
   "metadata": {},
   "outputs": [],
   "source": [
    "%%time\n",
    "second_300 = get_area_and_distance(\n",
    "    tool_width=tool_width,\n",
    "    gps_m_deviation=1,\n",
    "    \n",
    "    time=track_lat,\n",
    "    track_lat=track_lat,\n",
    "    track_lon=track_lon,\n",
    "    \n",
    "    field_bounds_str=field_bounds_str,\n",
    "    encoded_field_polygon=first_300['encoded_field_polygon'],\n",
    "    encoded_calculated_track=first_300['encoded_calculated_track'],\n",
    "    gps_geozone_num=first_300['gps_geozone_num'],\n",
    "    gps_geozone_let=first_300['gps_geozone_let'],\n",
    "    last_point_xy=first_300['last_point_xy'],\n",
    "    last_path_distance=first_300['path_distance'][-1],\n",
    ")"
   ]
  },
  {
   "cell_type": "markdown",
   "id": "bc07f9e5-bfde-457c-9d5c-7a4d890ceacd",
   "metadata": {},
   "source": [
    "## Third 300 coords"
   ]
  },
  {
   "cell_type": "code",
   "execution_count": null,
   "id": "e80393ac-a689-46e9-9f6e-69ccd8689c0e",
   "metadata": {},
   "outputs": [],
   "source": [
    "track_lon, track_lat = path[track_len*2 :track_len*3].T\n",
    "time = track_lon"
   ]
  },
  {
   "cell_type": "code",
   "execution_count": null,
   "id": "2ce6f708-9a21-40fa-9de5-70ac1c748215",
   "metadata": {},
   "outputs": [],
   "source": [
    "%%time\n",
    "third_300 = get_area_and_distance(\n",
    "    tool_width=tool_width,\n",
    "    gps_m_deviation=1,\n",
    "    \n",
    "    time=time,\n",
    "    track_lat=track_lat,\n",
    "    track_lon=track_lon,\n",
    "    \n",
    "    field_bounds_str=field_bounds_str,\n",
    "    encoded_field_polygon=second_300['encoded_field_polygon'],\n",
    "    encoded_calculated_track=second_300['encoded_calculated_track'],\n",
    "    gps_geozone_num=second_300['gps_geozone_num'],\n",
    "    gps_geozone_let=second_300['gps_geozone_let'],\n",
    "    last_point_xy=second_300['last_point_xy'],\n",
    "    last_path_distance=second_300['path_distance'][-1],\n",
    ")"
   ]
  },
  {
   "cell_type": "markdown",
   "id": "b101e879-30ea-4d7b-ba4f-6b256680213e",
   "metadata": {},
   "source": [
    "## Fourth 300 coords"
   ]
  },
  {
   "cell_type": "code",
   "execution_count": null,
   "id": "fffcbb96-c8c3-4bd6-99b4-d42da54c188f",
   "metadata": {},
   "outputs": [],
   "source": [
    "track_lon, track_lat = path[track_len*3 :track_len*4].T\n",
    "time = track_lon"
   ]
  },
  {
   "cell_type": "code",
   "execution_count": null,
   "id": "43feaf78-7268-46f3-bf72-8d5574db9314",
   "metadata": {},
   "outputs": [],
   "source": [
    "%%time\n",
    "fourth_300 = get_area_and_distance(\n",
    "    tool_width=tool_width,\n",
    "    gps_m_deviation=1,\n",
    "    \n",
    "    time=time,\n",
    "    track_lat=track_lat,\n",
    "    track_lon=track_lon,\n",
    "    \n",
    "    field_bounds_str=field_bounds_str,\n",
    "    encoded_field_polygon=third_300['encoded_field_polygon'],\n",
    "    encoded_calculated_track=third_300['encoded_calculated_track'],\n",
    "    gps_geozone_num=third_300['gps_geozone_num'],\n",
    "    gps_geozone_let=third_300['gps_geozone_let'],\n",
    "    last_point_xy=third_300['last_point_xy'],\n",
    "    last_path_distance=third_300['path_distance'][-1],\n",
    ")"
   ]
  },
  {
   "cell_type": "markdown",
   "id": "8c0c522c-c39c-4bea-9c90-5bdc8aa8cf2e",
   "metadata": {},
   "source": [
    "## Fifth 300 coords"
   ]
  },
  {
   "cell_type": "code",
   "execution_count": null,
   "id": "e96b91a6-5680-4a08-9ec5-a8c3b7749c88",
   "metadata": {},
   "outputs": [],
   "source": [
    "track_lon, track_lat = path[track_len*4 :track_len*5].T\n",
    "time = track_lon"
   ]
  },
  {
   "cell_type": "code",
   "execution_count": null,
   "id": "4310cf7f-f612-4f89-a5b3-23ad32501f16",
   "metadata": {},
   "outputs": [],
   "source": [
    "%%time\n",
    "fifth_300 = get_area_and_distance(\n",
    "    tool_width=tool_width,\n",
    "    gps_m_deviation=1,\n",
    "    \n",
    "    time=time,\n",
    "    track_lat=track_lat,\n",
    "    track_lon=track_lon,\n",
    "    \n",
    "    field_bounds_str=field_bounds_str,\n",
    "    encoded_field_polygon=fourth_300['encoded_field_polygon'],\n",
    "    encoded_calculated_track=fourth_300['encoded_calculated_track'],\n",
    "    gps_geozone_num=fourth_300['gps_geozone_num'],\n",
    "    gps_geozone_let=fourth_300['gps_geozone_let'],\n",
    "    last_point_xy=fourth_300['last_point_xy'],\n",
    "    last_path_distance=fourth_300['path_distance'][-1],\n",
    ")"
   ]
  },
  {
   "cell_type": "markdown",
   "id": "f24db71a-ab39-4bbd-bc1a-29bd4aef95ea",
   "metadata": {},
   "source": [
    "## Sixth 300 coords"
   ]
  },
  {
   "cell_type": "code",
   "execution_count": null,
   "id": "ecad178f-e541-4f36-ad2e-e576e08fefcc",
   "metadata": {},
   "outputs": [],
   "source": [
    "track_lon, track_lat = path[track_len*5 :track_len*6].T\n",
    "time = track_lon"
   ]
  },
  {
   "cell_type": "code",
   "execution_count": null,
   "id": "ae7fda63-c541-4fe4-83db-e383f06217b6",
   "metadata": {},
   "outputs": [],
   "source": [
    "%%time\n",
    "sixth_300 = get_area_and_distance(\n",
    "    tool_width=tool_width,\n",
    "    gps_m_deviation=1,\n",
    "    \n",
    "    time=time,\n",
    "    track_lat=track_lat,\n",
    "    track_lon=track_lon,\n",
    "    \n",
    "    field_bounds_str=field_bounds_str,\n",
    "    encoded_field_polygon=fifth_300['encoded_field_polygon'],\n",
    "    encoded_calculated_track=fifth_300['encoded_calculated_track'],\n",
    "    gps_geozone_num=fifth_300['gps_geozone_num'],\n",
    "    gps_geozone_let=fifth_300['gps_geozone_let'],\n",
    "    last_point_xy=fifth_300['last_point_xy'],\n",
    "    last_path_distance=fifth_300['path_distance'][-1],\n",
    ")"
   ]
  },
  {
   "cell_type": "markdown",
   "id": "a1bb0a44-d396-45cb-b7a2-b88410b75a89",
   "metadata": {},
   "source": [
    "## Seventh 300 coords"
   ]
  },
  {
   "cell_type": "code",
   "execution_count": null,
   "id": "1f88648e-f083-41e6-a633-06744bfd5574",
   "metadata": {},
   "outputs": [],
   "source": [
    "track_lon, track_lat = path[track_len*6 :].T\n",
    "time = track_lon"
   ]
  },
  {
   "cell_type": "code",
   "execution_count": null,
   "id": "8decc72e-dbad-4df2-8e48-cc4fde6444dd",
   "metadata": {},
   "outputs": [],
   "source": [
    "%%time\n",
    "seventh_300 = get_area_and_distance(\n",
    "    tool_width=tool_width,\n",
    "    gps_m_deviation=1,\n",
    "    \n",
    "    time=time,\n",
    "    track_lat=track_lat,\n",
    "    track_lon=track_lon,\n",
    "    \n",
    "    field_bounds_str=field_bounds_str,\n",
    "    encoded_field_polygon=sixth_300['encoded_field_polygon'],\n",
    "    encoded_calculated_track=sixth_300['encoded_calculated_track'],\n",
    "    gps_geozone_num=sixth_300['gps_geozone_num'],\n",
    "    gps_geozone_let=sixth_300['gps_geozone_let'],\n",
    "    last_point_xy=sixth_300['last_point_xy'],\n",
    "    last_path_distance=sixth_300['path_distance'][-1],\n",
    ")"
   ]
  },
  {
   "cell_type": "markdown",
   "id": "d09475fd-f7d8-47c0-af28-2928fa78577f",
   "metadata": {},
   "source": [
    "### Calculated track area comparison"
   ]
  },
  {
   "cell_type": "code",
   "execution_count": null,
   "id": "ab281dd7-93ea-4b2f-8931-d221b8005a1e",
   "metadata": {},
   "outputs": [],
   "source": [
    "%%time\n",
    "first_track = wkt.loads(first_300['encoded_calculated_track'])"
   ]
  },
  {
   "cell_type": "code",
   "execution_count": null,
   "id": "7f3defad-6a5b-4cf5-9c21-9c298cf4b615",
   "metadata": {},
   "outputs": [],
   "source": [
    "%%time\n",
    "second_track = wkt.loads(second_300['encoded_calculated_track'])"
   ]
  },
  {
   "cell_type": "code",
   "execution_count": null,
   "id": "7ef9045f-9c3a-4d94-9c2b-feb941377a92",
   "metadata": {},
   "outputs": [],
   "source": [
    "%%time\n",
    "third_track = wkt.loads(third_300['encoded_calculated_track'])"
   ]
  },
  {
   "cell_type": "code",
   "execution_count": null,
   "id": "06dd0c69-0768-4d9a-b581-4ec166bd1958",
   "metadata": {},
   "outputs": [],
   "source": [
    "%%time\n",
    "fourth_track = wkt.loads(fourth_300['encoded_calculated_track'])"
   ]
  },
  {
   "cell_type": "code",
   "execution_count": null,
   "id": "7123213a-0b52-4e60-bf84-38dd1fb61b22",
   "metadata": {},
   "outputs": [],
   "source": [
    "%%time\n",
    "fifth_track = wkt.loads(fifth_300['encoded_calculated_track'])"
   ]
  },
  {
   "cell_type": "code",
   "execution_count": null,
   "id": "03c7011e-8cab-4cb7-bfd4-b1c1c58e27db",
   "metadata": {},
   "outputs": [],
   "source": [
    "%%time\n",
    "sixth_track = wkt.loads(sixth_300['encoded_calculated_track'])"
   ]
  },
  {
   "cell_type": "code",
   "execution_count": null,
   "id": "4c8bbb21-0be5-4e11-ad07-b444e4b1b61c",
   "metadata": {},
   "outputs": [],
   "source": [
    "%%time\n",
    "seventh_track = wkt.loads(seventh_300['encoded_calculated_track'])"
   ]
  },
  {
   "cell_type": "code",
   "execution_count": null,
   "id": "42749aba-dcc6-4549-8873-f12bdafa9b02",
   "metadata": {},
   "outputs": [],
   "source": [
    "%%time\n",
    "field_poly = wkt.loads(first_300['encoded_field_polygon'])"
   ]
  },
  {
   "cell_type": "code",
   "execution_count": null,
   "id": "7c4cb9b1-cfd7-4c58-837f-51bdf3b1fb2b",
   "metadata": {},
   "outputs": [],
   "source": [
    "first_track"
   ]
  },
  {
   "cell_type": "code",
   "execution_count": null,
   "id": "bbbd96f4-0e22-4ef7-98b2-16c9dd4967a0",
   "metadata": {},
   "outputs": [],
   "source": [
    "second_track"
   ]
  },
  {
   "cell_type": "code",
   "execution_count": null,
   "id": "0b8219c1-d9a3-42f7-af5f-715249139875",
   "metadata": {},
   "outputs": [],
   "source": [
    "third_track"
   ]
  },
  {
   "cell_type": "code",
   "execution_count": null,
   "id": "1d4b27ec-8995-4ac5-b2ab-e77b026e2231",
   "metadata": {},
   "outputs": [],
   "source": [
    "field_poly"
   ]
  },
  {
   "cell_type": "code",
   "execution_count": null,
   "id": "9b7d902b-c9b5-4d3a-9917-2eb93b8fc4a8",
   "metadata": {},
   "outputs": [],
   "source": [
    "first_track.area, field_poly.intersection(first_track).area, first_300['path_distance'][-1]"
   ]
  },
  {
   "cell_type": "code",
   "execution_count": null,
   "id": "40f68bff-a3cc-4ee8-afc6-428462551364",
   "metadata": {},
   "outputs": [],
   "source": [
    "second_track.area, field_poly.intersection(second_track).area"
   ]
  },
  {
   "cell_type": "code",
   "execution_count": null,
   "id": "ffe72b52-d708-4cd1-8e91-680950ae6517",
   "metadata": {},
   "outputs": [],
   "source": [
    "third_track.area, field_poly.intersection(third_track).area"
   ]
  },
  {
   "cell_type": "code",
   "execution_count": null,
   "id": "3a0da277-63ce-4670-8d0f-7a72047a708a",
   "metadata": {},
   "outputs": [],
   "source": [
    "fourth_track.area, field_poly.intersection(fourth_track).area"
   ]
  },
  {
   "cell_type": "code",
   "execution_count": null,
   "id": "3a4e7a5b-cbf7-4f2c-816e-c917c0b6026c",
   "metadata": {},
   "outputs": [],
   "source": [
    "fifth_track.area, field_poly.intersection(fifth_track).area"
   ]
  },
  {
   "cell_type": "code",
   "execution_count": null,
   "id": "5921489e-604d-431e-b0e7-3568734019e2",
   "metadata": {},
   "outputs": [],
   "source": [
    "sixth_track.area, field_poly.intersection(sixth_track).area"
   ]
  },
  {
   "cell_type": "code",
   "execution_count": null,
   "id": "a8f48a9f-c29e-4255-bac9-f122869214f7",
   "metadata": {},
   "outputs": [],
   "source": [
    "seventh_track.area, field_poly.intersection(seventh_track).area"
   ]
  },
  {
   "cell_type": "code",
   "execution_count": null,
   "id": "1776d6fc-479e-4150-8934-0ed883ecdabb",
   "metadata": {},
   "outputs": [],
   "source": [
    "seventh_track"
   ]
  },
  {
   "cell_type": "markdown",
   "id": "8284964c-bbbc-476c-a394-817641f6a191",
   "metadata": {
    "tags": []
   },
   "source": [
    "# Time test for each step"
   ]
  },
  {
   "cell_type": "markdown",
   "id": "822635bc-1316-4075-9d8f-4f7308f0f15d",
   "metadata": {
    "tags": []
   },
   "source": [
    "## First 300 coords"
   ]
  },
  {
   "cell_type": "code",
   "execution_count": null,
   "id": "60b1eb78-7954-42d6-b54a-267f183bdf1f",
   "metadata": {},
   "outputs": [],
   "source": [
    "# parameters\n",
    "track_len = 300\n",
    "\n",
    "tool_width = 10\n",
    "gps_m_deviation = 2\n",
    "\n",
    "time = np.ones(track_len)\n",
    "\n",
    "track_lon, track_lat = list(path[:track_len].T)\n",
    "\n",
    "gps_geozone_num = None\n",
    "gps_geozone_let = None\n",
    "\n",
    "encoded_field_polygon = None\n",
    "encoded_calculated_track = None\n",
    "\n",
    "last_point_xy = None\n",
    "\n",
    "last_path_distance = 0"
   ]
  },
  {
   "cell_type": "code",
   "execution_count": null,
   "id": "6de6f515-c801-432c-a9a9-0eb1dc87a519",
   "metadata": {},
   "outputs": [],
   "source": [
    "%%time\n",
    "# init field_polygon\n",
    "field_polygon = None"
   ]
  },
  {
   "cell_type": "code",
   "execution_count": null,
   "id": "3b1539da-488a-4a44-b724-6a08ce9bd108",
   "metadata": {},
   "outputs": [],
   "source": [
    "%%time\n",
    "# calculate track buffer as the sum of tool-width and GPS deviation\n",
    "buffer = (tool_width + gps_m_deviation) / 2"
   ]
  },
  {
   "cell_type": "code",
   "execution_count": null,
   "id": "1b8a8cbf-872c-4a17-aadc-2942a4022f46",
   "metadata": {},
   "outputs": [],
   "source": [
    "%%time\n",
    "# if GPS geozone is not defined\n",
    "if gps_geozone_num is None or gps_geozone_let is None:\n",
    "    # define geozone num and let\n",
    "    gps_geozone_num, gps_geozone_let = get_geozone(track_lat[0], track_lon[0])\n",
    "    # get field polygon from string bounds\n",
    "    field_polygon = get_polygon_from_str_bounds(field_bounds_str, gps_geozone_num, gps_geozone_let)\n",
    "    # create encoded version of the field polygon\n",
    "    encoded_field_polygon = str(field_polygon)"
   ]
  },
  {
   "cell_type": "code",
   "execution_count": null,
   "id": "b79169d0-b113-4f87-9234-ac7f2b2630de",
   "metadata": {},
   "outputs": [],
   "source": [
    "%%time\n",
    "# convert GPS coordinates of the track \n",
    "track_xy = from_latlon(track_lat, track_lon, gps_geozone_num, gps_geozone_let)"
   ]
  },
  {
   "cell_type": "code",
   "execution_count": null,
   "id": "83ea0548-c26f-43c6-919b-016e7fd82df0",
   "metadata": {},
   "outputs": [],
   "source": [
    "%%time\n",
    "# if the field polygon isn't defined\n",
    "if field_polygon is None:\n",
    "    # and its encoded version isn't defined\n",
    "    if encoded_field_polygon is None:\n",
    "        # get field polygon from string bounds\n",
    "        field_polygon = get_polygon_from_str_bounds(field_bounds_str, gps_geozone_num, gps_geozone_let)\n",
    "        # create encoded version of the field polygon\n",
    "        encoded_field_polygon = str(field_polygon)\n",
    "    else:\n",
    "        # load field polygon from encoded version\n",
    "        field_polygon = wkt.loads(encoded_field_polygon)"
   ]
  },
  {
   "cell_type": "code",
   "execution_count": null,
   "id": "dd843f58-73f0-45e7-b484-c01d87a9edb6",
   "metadata": {},
   "outputs": [],
   "source": [
    "%%time\n",
    "# if the last processed point isn't defined\n",
    "if last_point_xy is None: \n",
    "    # then it is the first point of the current track\n",
    "    last_point_xy = track_xy[0]\n",
    "# add last processed point to the track\n",
    "track_xy = np.concatenate([[last_point_xy], track_xy])"
   ]
  },
  {
   "cell_type": "code",
   "execution_count": null,
   "id": "9b8a0c98-a226-4075-81fc-e3e7c3395139",
   "metadata": {},
   "outputs": [],
   "source": [
    "%%time\n",
    "# if the encoded calculated track representation isn't defined\n",
    "if encoded_calculated_track is None:\n",
    "    # create empty calculated track \n",
    "    calculated_track = LineString([])\n",
    "else:\n",
    "    # load calculated track from encoded version\n",
    "    calculated_track = wkt.loads(encoded_calculated_track)"
   ]
  },
  {
   "cell_type": "code",
   "execution_count": null,
   "id": "61d6f141-01c4-4fa5-a666-f04a992578c7",
   "metadata": {},
   "outputs": [],
   "source": [
    "%%time\n",
    "# create cumulative path distance and area arrays\n",
    "path_distance = np.concatenate([[last_path_distance], np.zeros(len(time))])\n",
    "field_processed = np.concatenate([[calculated_track.area], np.zeros(len(time))])"
   ]
  },
  {
   "cell_type": "code",
   "execution_count": null,
   "id": "fb5dc982-a364-4dd6-8a28-dbc16e98d1b1",
   "metadata": {},
   "outputs": [],
   "source": [
    "%%time\n",
    "# calculation loop : for two consecutive track points (i, i+1)\n",
    "for i in range(len(time)):\n",
    "    # create LineString object as a subtrack\n",
    "    subtrack = LineString(track_xy[i : i+2])\n",
    "    # compute distance between these points, and add new cumulative distance to the list\n",
    "    path_distance[i+1] = path_distance[i] + subtrack.length\n",
    "\n",
    "    # add buffer to the subtrack, and intersect it with the field polygon\n",
    "    subfield = subtrack.buffer(buffer) \\\n",
    "                       .intersection(field_polygon) \n",
    "    # add this intersection to the preprocessed track\n",
    "    calculated_track = calculated_track.union(subfield)\n",
    "    # add new cumulative area to the list\n",
    "    field_processed[i+1] = calculated_track.area   "
   ]
  },
  {
   "cell_type": "code",
   "execution_count": null,
   "id": "2acd9e0c-b0bb-446c-8138-372a9e01f11e",
   "metadata": {},
   "outputs": [],
   "source": [
    "%%time\n",
    "# create output dictionary\n",
    "distance_and_area_calculator = {\n",
    "    'encoded_field_polygon' : encoded_field_polygon,\n",
    "    'encoded_calculated_track' : str(calculated_track),\n",
    "\n",
    "    'gps_geozone_num' : gps_geozone_num,\n",
    "    'gps_geozone_let' : gps_geozone_let,\n",
    "\n",
    "    'last_point_xy' : track_xy[-1],\n",
    "\n",
    "    'path_distance' : path_distance[1:],\n",
    "    'field_processed' : field_processed[1:]\n",
    "}"
   ]
  },
  {
   "cell_type": "code",
   "execution_count": null,
   "id": "630ef3fa-2882-4a3a-92db-2e89fa1c8a79",
   "metadata": {},
   "outputs": [],
   "source": [
    "wkt.loads(distance_and_area_calculator['encoded_calculated_track'])"
   ]
  },
  {
   "cell_type": "markdown",
   "id": "e7d3c62b-8bf8-443d-8e83-6c8cf299c9ec",
   "metadata": {
    "tags": []
   },
   "source": [
    "## Second 300 coords"
   ]
  },
  {
   "cell_type": "code",
   "execution_count": null,
   "id": "bc0b5fd5-be46-4f94-8c09-67f07066fb60",
   "metadata": {},
   "outputs": [],
   "source": [
    "# parameters\n",
    "track_len = 300\n",
    "\n",
    "tool_width = 10\n",
    "gps_m_deviation = 2\n",
    "\n",
    "time = np.ones(track_len)\n",
    "\n",
    "track_lon, track_lat = list(path[track_len : track_len*2].T)\n",
    "\n",
    "gps_geozone_num = distance_and_area_calculator['gps_geozone_num']\n",
    "gps_geozone_let = distance_and_area_calculator['gps_geozone_let']\n",
    "\n",
    "encoded_field_polygon = distance_and_area_calculator['encoded_field_polygon']\n",
    "encoded_calculated_track = distance_and_area_calculator['encoded_calculated_track']\n",
    "\n",
    "last_point_xy = distance_and_area_calculator['last_point_xy']\n",
    "\n",
    "last_path_distance = distance_and_area_calculator['path_distance'][-1]"
   ]
  },
  {
   "cell_type": "code",
   "execution_count": null,
   "id": "bb549dac-e641-42cb-b8a9-f99f0e014157",
   "metadata": {},
   "outputs": [],
   "source": [
    "%%time\n",
    "# init field_polygon\n",
    "field_polygon = None"
   ]
  },
  {
   "cell_type": "code",
   "execution_count": null,
   "id": "1a9d9c94-8ca6-42fc-8965-4977a5b00340",
   "metadata": {},
   "outputs": [],
   "source": [
    "%%time\n",
    "# calculate track buffer as the sum of tool-width and GPS deviation\n",
    "buffer = (tool_width + gps_m_deviation) / 2"
   ]
  },
  {
   "cell_type": "code",
   "execution_count": null,
   "id": "bb6dce0c-be7f-4868-b434-2b309b37e2cc",
   "metadata": {},
   "outputs": [],
   "source": [
    "%%time\n",
    "# if GPS geozone is not defined\n",
    "if gps_geozone_num is None or gps_geozone_let is None:\n",
    "    # define geozone num and let\n",
    "    gps_geozone_num, gps_geozone_let = get_geozone(track_lat[0], track_lon[0])\n",
    "    # get field polygon from string bounds\n",
    "    field_polygon = get_polygon_from_str_bounds(field_bounds_str, gps_geozone_num, gps_geozone_let)\n",
    "    # create encoded version of the field polygon\n",
    "    encoded_field_polygon = str(field_polygon)"
   ]
  },
  {
   "cell_type": "code",
   "execution_count": null,
   "id": "0b1624a8-e744-40ac-ab0a-2b48a63ef37f",
   "metadata": {},
   "outputs": [],
   "source": [
    "%%time\n",
    "# convert GPS coordinates of the track \n",
    "track_xy = from_latlon(track_lat, track_lon, gps_geozone_num, gps_geozone_let)"
   ]
  },
  {
   "cell_type": "code",
   "execution_count": null,
   "id": "37381732-21db-432d-b432-ec82861627b9",
   "metadata": {},
   "outputs": [],
   "source": [
    "%%time\n",
    "# if the field polygon isn't defined\n",
    "if field_polygon is None:\n",
    "    # and its encoded version isn't defined\n",
    "    if encoded_field_polygon is None:\n",
    "        # get field polygon from string bounds\n",
    "        field_polygon = get_polygon_from_str_bounds(field_bounds_str, gps_geozone_num, gps_geozone_let)\n",
    "        # create encoded version of the field polygon\n",
    "        encoded_field_polygon = str(field_polygon)\n",
    "    else:\n",
    "        # load field polygon from encoded version\n",
    "        field_polygon = wkt.loads(encoded_field_polygon)"
   ]
  },
  {
   "cell_type": "code",
   "execution_count": null,
   "id": "d266eb97-bb06-42f8-a75b-6479235e3845",
   "metadata": {},
   "outputs": [],
   "source": [
    "%%time\n",
    "# if the last processed point isn't defined\n",
    "if last_point_xy is None: \n",
    "    # then it is the first point of the current track\n",
    "    last_point_xy = track_xy[0]\n",
    "# add last processed point to the track\n",
    "track_xy = np.concatenate([[last_point_xy], track_xy])"
   ]
  },
  {
   "cell_type": "code",
   "execution_count": null,
   "id": "ccc3c334-a7fa-43e7-9f50-f8d108bcdebd",
   "metadata": {},
   "outputs": [],
   "source": [
    "%%time\n",
    "# if the encoded calculated track representation isn't defined\n",
    "if encoded_calculated_track is None:\n",
    "    # create empty calculated track \n",
    "    calculated_track = LineString([])\n",
    "else:\n",
    "    # load calculated track from encoded version\n",
    "    calculated_track = wkt.loads(encoded_calculated_track)"
   ]
  },
  {
   "cell_type": "code",
   "execution_count": null,
   "id": "6780470b-159c-4c2c-a3c7-726010f65c12",
   "metadata": {},
   "outputs": [],
   "source": [
    "%%time\n",
    "# create cumulative path distance and area arrays\n",
    "path_distance = np.concatenate([[last_path_distance], np.zeros(len(time))])\n",
    "field_processed = np.concatenate([[calculated_track.area], np.zeros(len(time))])"
   ]
  },
  {
   "cell_type": "code",
   "execution_count": null,
   "id": "a2b12d74-d168-4938-9756-b65e1cb6a101",
   "metadata": {},
   "outputs": [],
   "source": [
    "%%time\n",
    "# calculation loop : for two consecutive track points (i, i+1)\n",
    "for i in range(len(time)):\n",
    "    # create LineString object as a subtrack\n",
    "    subtrack = LineString(track_xy[i : i+2])\n",
    "    # compute distance between these points, and add new cumulative distance to the list\n",
    "    path_distance[i+1] = path_distance[i] + subtrack.length\n",
    "\n",
    "    # add buffer to the subtrack, and intersect it with the field polygon\n",
    "    subfield = subtrack.buffer(buffer) \\\n",
    "                       .intersection(field_polygon) \n",
    "    # add this intersection to the preprocessed track\n",
    "    calculated_track = calculated_track.union(subfield)\n",
    "    # add new cumulative area to the list\n",
    "    field_processed[i+1] = calculated_track.area   "
   ]
  },
  {
   "cell_type": "code",
   "execution_count": null,
   "id": "e45575c2-146c-4f36-8e70-b1c399f01445",
   "metadata": {},
   "outputs": [],
   "source": [
    "%%time\n",
    "# create output dictionary\n",
    "distance_and_area_calculator_2 = {\n",
    "    'encoded_field_polygon' : encoded_field_polygon,\n",
    "    'encoded_calculated_track' : str(calculated_track),\n",
    "\n",
    "    'gps_geozone_num' : gps_geozone_num,\n",
    "    'gps_geozone_let' : gps_geozone_let,\n",
    "\n",
    "    'last_point_xy' : track_xy[-1],\n",
    "\n",
    "    'path_distance' : path_distance[1:],\n",
    "    'field_processed' : field_processed[1:]\n",
    "}"
   ]
  },
  {
   "cell_type": "markdown",
   "id": "4efead32-e75e-49ef-90c7-8dcbad1f2b8e",
   "metadata": {
    "tags": []
   },
   "source": [
    "## Third 300 coords"
   ]
  },
  {
   "cell_type": "code",
   "execution_count": null,
   "id": "4ea349d3-f5ca-4e3d-9996-d35c36f9f2a6",
   "metadata": {},
   "outputs": [],
   "source": [
    "# parameters\n",
    "track_len = 300\n",
    "\n",
    "tool_width = 10\n",
    "gps_m_deviation = 2\n",
    "\n",
    "time = np.ones(track_len)\n",
    "\n",
    "track_lon, track_lat = list(path[track_len*2 : track_len*3].T)\n",
    "\n",
    "gps_geozone_num = distance_and_area_calculator_2['gps_geozone_num']\n",
    "gps_geozone_let = distance_and_area_calculator_2['gps_geozone_let']\n",
    "\n",
    "encoded_field_polygon = distance_and_area_calculator_2['encoded_field_polygon']\n",
    "encoded_calculated_track = distance_and_area_calculator_2['encoded_calculated_track']\n",
    "\n",
    "last_point_xy = distance_and_area_calculator_2['last_point_xy']\n",
    "\n",
    "last_path_distance = distance_and_area_calculator_2['path_distance'][-1]"
   ]
  },
  {
   "cell_type": "code",
   "execution_count": null,
   "id": "2858e62f-273e-484c-baf4-33fc4b27390f",
   "metadata": {},
   "outputs": [],
   "source": [
    "%%time\n",
    "# init field_polygon\n",
    "field_polygon = None"
   ]
  },
  {
   "cell_type": "code",
   "execution_count": null,
   "id": "1262a388-f5c6-49a6-8f6e-aa566aefe436",
   "metadata": {},
   "outputs": [],
   "source": [
    "%%time\n",
    "# calculate track buffer as the sum of tool-width and GPS deviation\n",
    "buffer = (tool_width + gps_m_deviation) / 2"
   ]
  },
  {
   "cell_type": "code",
   "execution_count": null,
   "id": "9e8cf4d7-5d62-48fb-91d7-e4e29d81776a",
   "metadata": {},
   "outputs": [],
   "source": [
    "%%time\n",
    "# if GPS geozone is not defined\n",
    "if gps_geozone_num is None or gps_geozone_let is None:\n",
    "    # define geozone num and let\n",
    "    gps_geozone_num, gps_geozone_let = get_geozone(track_lat[0], track_lon[0])\n",
    "    # get field polygon from string bounds\n",
    "    field_polygon = get_polygon_from_str_bounds(field_bounds_str, gps_geozone_num, gps_geozone_let)\n",
    "    # create encoded version of the field polygon\n",
    "    encoded_field_polygon = str(field_polygon)"
   ]
  },
  {
   "cell_type": "code",
   "execution_count": null,
   "id": "ef2da646-2e18-4bc6-9923-a64b3b03eca6",
   "metadata": {},
   "outputs": [],
   "source": [
    "%%time\n",
    "# convert GPS coordinates of the track \n",
    "track_xy = from_latlon(track_lat, track_lon, gps_geozone_num, gps_geozone_let)"
   ]
  },
  {
   "cell_type": "code",
   "execution_count": null,
   "id": "f93dfa40-0f0b-4de6-82cf-da54a075df35",
   "metadata": {},
   "outputs": [],
   "source": [
    "%%time\n",
    "# if the field polygon isn't defined\n",
    "if field_polygon is None:\n",
    "    # and its encoded version isn't defined\n",
    "    if encoded_field_polygon is None:\n",
    "        # get field polygon from string bounds\n",
    "        field_polygon = get_polygon_from_str_bounds(field_bounds_str, gps_geozone_num, gps_geozone_let)\n",
    "        # create encoded version of the field polygon\n",
    "        encoded_field_polygon = str(field_polygon)\n",
    "    else:\n",
    "        # load field polygon from encoded version\n",
    "        field_polygon = wkt.loads(encoded_field_polygon)"
   ]
  },
  {
   "cell_type": "code",
   "execution_count": null,
   "id": "a546686b-9b26-4455-8e32-6adcbc18a31b",
   "metadata": {},
   "outputs": [],
   "source": [
    "%%time\n",
    "# if the last processed point isn't defined\n",
    "if last_point_xy is None: \n",
    "    # then it is the first point of the current track\n",
    "    last_point_xy = track_xy[0]\n",
    "# add last processed point to the track\n",
    "track_xy = np.concatenate([[last_point_xy], track_xy])"
   ]
  },
  {
   "cell_type": "code",
   "execution_count": null,
   "id": "62e7d5e2-9019-4c81-9172-fc8cddbed89f",
   "metadata": {},
   "outputs": [],
   "source": [
    "%%time\n",
    "# if the encoded calculated track representation isn't defined\n",
    "if encoded_calculated_track is None:\n",
    "    # create empty calculated track \n",
    "    calculated_track = LineString([])\n",
    "else:\n",
    "    # load calculated track from encoded version\n",
    "    calculated_track = wkt.loads(encoded_calculated_track)"
   ]
  },
  {
   "cell_type": "code",
   "execution_count": null,
   "id": "c783b6b1-10e3-416c-b6df-bd4319aee14b",
   "metadata": {},
   "outputs": [],
   "source": [
    "%%time\n",
    "# create cumulative path distance and area arrays\n",
    "path_distance = np.concatenate([[last_path_distance], np.zeros(len(time))])\n",
    "field_processed = np.concatenate([[calculated_track.area], np.zeros(len(time))])"
   ]
  },
  {
   "cell_type": "code",
   "execution_count": null,
   "id": "aab2c6bb-97b2-4aae-b159-0bd95ddce06f",
   "metadata": {},
   "outputs": [],
   "source": [
    "%%time\n",
    "# calculation loop : for two consecutive track points (i, i+1)\n",
    "for i in range(len(time)):\n",
    "    # create LineString object as a subtrack\n",
    "    subtrack = LineString(track_xy[i : i+2])\n",
    "    # compute distance between these points, and add new cumulative distance to the list\n",
    "    path_distance[i+1] = path_distance[i] + subtrack.length\n",
    "\n",
    "    # add buffer to the subtrack, and intersect it with the field polygon\n",
    "    subfield = subtrack.buffer(buffer) \\\n",
    "                       .intersection(field_polygon) \n",
    "    # add this intersection to the preprocessed track\n",
    "    calculated_track = calculated_track.union(subfield)\n",
    "    # add new cumulative area to the list\n",
    "    field_processed[i+1] = calculated_track.area   "
   ]
  },
  {
   "cell_type": "code",
   "execution_count": null,
   "id": "8f6201af-895e-4cfd-b5be-dc6834287f1f",
   "metadata": {},
   "outputs": [],
   "source": [
    "%%time\n",
    "# create output dictionary\n",
    "distance_and_area_calculator_2 = {\n",
    "    'encoded_field_polygon' : encoded_field_polygon,\n",
    "    'encoded_calculated_track' : str(calculated_track),\n",
    "\n",
    "    'gps_geozone_num' : gps_geozone_num,\n",
    "    'gps_geozone_let' : gps_geozone_let,\n",
    "\n",
    "    'last_point_xy' : track_xy[-1],\n",
    "\n",
    "    'path_distance' : path_distance[1:],\n",
    "    'field_processed' : field_processed[1:]\n",
    "}"
   ]
  },
  {
   "cell_type": "code",
   "execution_count": null,
   "id": "4731e946-699e-4f4f-be94-ee21a964d029",
   "metadata": {},
   "outputs": [],
   "source": []
  },
  {
   "cell_type": "code",
   "execution_count": null,
   "id": "7f9a9842-fa70-49e5-b726-69fc7b150626",
   "metadata": {},
   "outputs": [],
   "source": []
  }
 ],
 "metadata": {
  "kernelspec": {
   "display_name": "Python 3 (ipykernel)",
   "language": "python",
   "name": "python3"
  },
  "language_info": {
   "codemirror_mode": {
    "name": "ipython",
    "version": 3
   },
   "file_extension": ".py",
   "mimetype": "text/x-python",
   "name": "python",
   "nbconvert_exporter": "python",
   "pygments_lexer": "ipython3",
   "version": "3.8.8"
  }
 },
 "nbformat": 4,
 "nbformat_minor": 5
}

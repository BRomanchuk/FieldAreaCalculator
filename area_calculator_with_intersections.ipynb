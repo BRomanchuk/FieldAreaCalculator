{
 "cells": [
  {
   "cell_type": "code",
   "execution_count": null,
   "id": "ac332a44-2417-4c3e-a5d4-49dba8ba3998",
   "metadata": {},
   "outputs": [],
   "source": [
    "import numpy as np\n",
    "import pandas as pd\n",
    "\n",
    "from shapely import Polygon, LineString, Point\n",
    "from shapely.ops import unary_union\n",
    "from shapely import wkt\n",
    "\n",
    "import utm\n",
    "import ast"
   ]
  },
  {
   "cell_type": "code",
   "execution_count": null,
   "id": "8770dabc-ef37-4db9-8dca-0826f647fb5e",
   "metadata": {},
   "outputs": [],
   "source": [
    "def from_latlon(latitude, longitude, geozone_num, geozone_let):\n",
    "    \"\"\"\n",
    "    convert lat, lon to (x, y) coordinates (in meters)\n",
    "    :param latitude:  list or np.array (shape: (n,))\n",
    "    :param longitude: list or np.array (shape: (n,))\n",
    "    :param geozone_num: geozone integer\n",
    "    :param geozone_let: geozone letter\n",
    "    :return: np.array of (x, y) coordinates (shape: (n, 2))\n",
    "    \"\"\"\n",
    "    xy = np.array([\n",
    "        utm.from_latlon(\n",
    "            latitude=lat, \n",
    "            longitude=lon, \n",
    "            force_zone_number=geozone_num,\n",
    "            force_zone_letter=geozone_let\n",
    "        )[:2] for lat, lon in zip(latitude, longitude)\n",
    "    ])\n",
    "    return xy\n",
    "\n",
    "\n",
    "\n",
    "def get_subfields_xy(field_bounds: list, geozone_num, geozone_let):\n",
    "    \"\"\"\n",
    "    convert GPS bounds of field into (x, y) coordinates (in meters)\n",
    "    :param field_bounds: list with GPS bounds of subfields\n",
    "    :return: list of (x, y) bounds of the subfields\n",
    "    \"\"\"\n",
    "    subfields = [np.array(subfield).T for subfield in field_bounds]\n",
    "    bounds_xy = [from_latlon(field[1], field[0], geozone_num, geozone_let) for field in subfields]\n",
    "    return bounds_xy\n",
    "\n",
    "\n",
    "\n",
    "def get_bounds_from_string(field_bounds_str : str):\n",
    "    \"\"\"\n",
    "    convert string representation of the bounds into list\n",
    "    :param field_bounds_str: string representation of the bounds\n",
    "    :return: list of bounds of the subfields\n",
    "    \"\"\"\n",
    "    if field_bounds_str[:4] == '[[[[':\n",
    "        field_bounds_str = field_bounds_str.replace('[[[', '[[').replace(']]]', ']]')\n",
    "    field_bounds = ast.literal_eval(field_bounds_str) \n",
    "    return field_bounds\n",
    "\n",
    "\n",
    "\n",
    "def get_geozone(latitude, longitude):\n",
    "    \"\"\"\n",
    "    :param latitude: \n",
    "    :param longitude: \n",
    "    :return: UTM geozone number and letter\n",
    "    \"\"\"\n",
    "    geozone_num, geozone_let = utm.from_latlon(latitude, longitude)[2:]\n",
    "    return geozone_num, geozone_let\n",
    "\n",
    "\n",
    "\n",
    "def get_polygon_from_str_bounds(field_bounds_str, geozone_num, geozone_let):\n",
    "    \"\"\"\n",
    "    get field polygon from string representation of its bounds\n",
    "    :param field_bounds_str: string representation of the bounds of the field\n",
    "    :param geozone_num: utm geozone number\n",
    "    :param geozone_let: utm geozone letter\n",
    "    :return: shapely field polygon\n",
    "    \"\"\"\n",
    "    # get GPS field bounds from string representation\n",
    "    field_bounds = get_bounds_from_string(field_bounds_str)\n",
    "    # convert GPS field bounds to XY and create field_polygon\n",
    "    subfields_xy = get_subfields_xy(field_bounds, geozone_num, geozone_let)\n",
    "    field_polygon = unary_union([\n",
    "        Polygon(subfield).buffer(0) if len(subfield) > 1 else None for subfield in subfields_xy\n",
    "    ])\n",
    "    return field_polygon\n",
    "\n",
    "\n",
    "\n",
    "def denoise_track(track_xy, simplification_m):\n",
    "    \"\"\"\n",
    "    get denoised track \n",
    "    :param track_xy: XY-coordinates of the original track\n",
    "    :param simplification_m: simplification tolerance\n",
    "    :return: denoised track \n",
    "    \"\"\"\n",
    "    # create track LineString object\n",
    "    track = LineString(track_xy)\n",
    "    # simplify the track\n",
    "    simplified_track = track.simplify(simplification_m)\n",
    "    # project each point of the original track onto the simplified track\n",
    "    projected_points = [\n",
    "        simplified_track.interpolate(\n",
    "            simplified_track.project(\n",
    "                Point(x, y)\n",
    "            )\n",
    "        )\n",
    "        for x, y in track_xy\n",
    "    ]\n",
    "    return projected_points"
   ]
  },
  {
   "cell_type": "markdown",
   "id": "772b3027-13c4-4894-9781-be077ccd75b0",
   "metadata": {},
   "source": [
    "# Main function : area and distance calculator"
   ]
  },
  {
   "cell_type": "code",
   "execution_count": null,
   "id": "8b78a962-4493-44a6-b728-4636fcc2b9a3",
   "metadata": {},
   "outputs": [],
   "source": [
    "def get_area_and_distance(\n",
    "    tool_width : float,\n",
    "    gps_m_deviation : float,\n",
    "    \n",
    "    time : list,\n",
    "    track_lat : list,\n",
    "    track_lon : list,\n",
    "    \n",
    "    field_bounds : list,\n",
    "    \n",
    "    encoded_field_polygon : str = None,\n",
    "    encoded_calculated_track : str = None,\n",
    "    \n",
    "    gps_geozone_num : int = None,\n",
    "    gps_geozone_let : str = None,\n",
    "    \n",
    "    track_polygon_simplification_m = 0.3\n",
    "):\n",
    "    \"\"\"\n",
    "    Calculates path distances and processed field area\n",
    "\n",
    "    Parameters\n",
    "    ----------\n",
    "    tool_width : float\n",
    "        Tool-width in meters.\n",
    "    gps_m_deviation : float \n",
    "        GPS deviation in meters.\n",
    "    time : array-like\n",
    "        List of timestamps.\n",
    "    track_lat : array-like\n",
    "        List of track latitudes.\n",
    "    track_lon : array-like\n",
    "        List of track longitudes.\n",
    "    field_bounds : list of lists\n",
    "        List of lists with raw GPS field bounds !(lon, lat)!\n",
    "    encoded_field_polygon : str\n",
    "        Encoded version of the polygon in XY-system.\n",
    "    encoded_calculated_track : str\n",
    "        Encoded version of the calculated track in XY-system.\n",
    "    gps_geozone_num : int\n",
    "        GPS geozone number (UTM).\n",
    "    gps_geozone_let : str\n",
    "        GPS geozone letter (UTM).\n",
    "    simplification_m : float\n",
    "        Tolerance for the simplification of the calculated track.\n",
    "    \n",
    "    Returns\n",
    "    -------\n",
    "    distance_and_area_calculator : dict\n",
    "        Dict with list of path distances, areas, and intersection areas,\n",
    "        and updated parameters of the track and field:\n",
    "            encoded_field_polygon,\n",
    "            encoded_calculated_track,\n",
    "            gps_geozone_num,\n",
    "            gps_geozone_let.\n",
    "\n",
    "    \"\"\"\n",
    "    \n",
    "    # init field_polygon\n",
    "    field_polygon = None\n",
    "    \n",
    "    # calculate track buffer as the sum of tool-width and GPS deviation\n",
    "    buffer = (tool_width + gps_m_deviation) / 2\n",
    "    \n",
    "    # if GPS geozone is not defined\n",
    "    if gps_geozone_num is None or gps_geozone_let is None:\n",
    "        # define geozone num and let\n",
    "        gps_geozone_num, gps_geozone_let = get_geozone(track_lat[0], track_lon[0])\n",
    "        # get field polygon from string bounds\n",
    "        field_polygon = get_polygon_from_bounds(field_bounds, gps_geozone_num, gps_geozone_let)\n",
    "        # simplify the field polygon to fasten the computations\n",
    "        field_polygon = field_polygon.simplify(track_polygon_simplification_m*2)\n",
    "        # create encoded version of the field polygon\n",
    "        encoded_field_polygon = field_polygon.wkt\n",
    "        \n",
    "    # convert GPS coordinates of the track \n",
    "    track_xy = from_latlon(track_lat, track_lon, gps_geozone_num, gps_geozone_let)\n",
    "    \n",
    "    # if the field polygon isn't defined\n",
    "    if field_polygon is None:\n",
    "        # and its encoded version isn't defined\n",
    "        if encoded_field_polygon is None:\n",
    "            # get field polygon from string bounds\n",
    "            field_polygon = get_polygon_from_bounds(field_bounds, gps_geozone_num, gps_geozone_let)\n",
    "            # simplify the field polygon to fasten the computations\n",
    "            field_polygon = field_polygon.simplify(track_polygon_simplification_m*2)\n",
    "            # create encoded version of the field polygon\n",
    "            encoded_field_polygon = field_polygon.wkt\n",
    "        else:\n",
    "            # load field polygon from encoded version\n",
    "            field_polygon = wkt.loads(encoded_field_polygon)\n",
    "    \n",
    "    \n",
    "    # dublicate the first point of the track\n",
    "    track_xy = np.concatenate([track_xy[:1], track_xy])\n",
    "    \n",
    "    # denoise track \n",
    "    track_xy = denoise_track(track_xy, gps_m_deviation)\n",
    "    \n",
    "\n",
    "    # if the encoded calculated track representation isn't defined\n",
    "    if encoded_calculated_track is None:\n",
    "        # create empty calculated track \n",
    "        calculated_track = LineString([])\n",
    "    else:\n",
    "        # load calculated track from encoded version\n",
    "        calculated_track = wkt.loads(encoded_calculated_track)\n",
    "        \n",
    "        \n",
    "    # create path distance array, cumulative area array, and intersection area array\n",
    "    path_distance = np.zeros(len(time))\n",
    "    cumulative_field_processed = np.concatenate([[calculated_track.area], np.zeros(len(time))])\n",
    "    intersection_area = np.zeros(len(time))\n",
    "    \n",
    "    # create empty last processed subtrack to calculate intersection areas\n",
    "    last_subtrack = Polygon(None)\n",
    "    \n",
    "\n",
    "    # calculation loop : for two consecutive track points (i, i+1)\n",
    "    # !! ADD index_from !!\n",
    "    for i in range(len(time)):\n",
    "        # create LineString object as a subtrack\n",
    "        subtrack = LineString(track_xy[i : i+2])\n",
    "        # compute distance between these points, and add to the list\n",
    "        path_distance[i] = subtrack.intersection(field_polygon).length\n",
    "\n",
    "        # if the vehicle has no tool, continue calculating only path distance\n",
    "        if tool_width == 0:\n",
    "            continue\n",
    "        \n",
    "        # if the vehicle has the tool, calculate processed area\n",
    "        \n",
    "        # add buffer to the subtrack, and intersect it with the field polygon\n",
    "        subfield = subtrack.buffer(buffer) \\\n",
    "                           .intersection(field_polygon) \n",
    "        \n",
    "        # calculate intersection area\n",
    "        intersection_area[i] = subfield.difference(last_subtrack) \\\n",
    "                                       .intersection(calculated_track) \\\n",
    "                                       .area\n",
    "        \n",
    "        \n",
    "        # add this intersection to the preprocessed track\n",
    "        calculated_track = calculated_track.union(subfield)\n",
    "        \n",
    "        # create simplified track to fasten the computations\n",
    "        simplified = calculated_track.simplify(track_polygon_simplification_m, preserve_topology=False)\n",
    "        # if the difference in areas is small, use simplified track as a new calculated track\n",
    "        if np.abs(simplified.area - calculated_track.area) < (tool_width * gps_m_deviation) and cumulative_field_processed[i] < simplified.area:\n",
    "            calculated_track = simplified\n",
    "            \n",
    "        # add new cumulative area to the list\n",
    "        cumulative_field_processed[i+1] = calculated_track.area   \n",
    "\n",
    "    # calculate processed area for each timestamp\n",
    "    field_processed = cumulative_field_processed[1:] - cumulative_field_processed[:-1]\n",
    "\n",
    "    # create output dictionary\n",
    "    distance_and_area_calculator = {\n",
    "        'encoded_field_polygon' : encoded_field_polygon,\n",
    "        'encoded_calculated_track' : calculated_track.wkt,\n",
    "\n",
    "        'gps_geozone_num' : gps_geozone_num,\n",
    "        'gps_geozone_let' : gps_geozone_let,\n",
    "        \n",
    "        'path_distance' : path_distance,\n",
    "        'field_processed' : field_processed,\n",
    "        'intersection_area' : intersection_area\n",
    "    }\n",
    "    \n",
    "    return distance_and_area_calculator"
   ]
  },
  {
   "cell_type": "markdown",
   "id": "9f71c5e4-eaef-467d-8346-83fd3c8aa645",
   "metadata": {},
   "source": [
    "# Test"
   ]
  },
  {
   "cell_type": "code",
   "execution_count": null,
   "id": "e35da0cf-6960-4348-a27f-5fa7ed5956e4",
   "metadata": {},
   "outputs": [],
   "source": [
    "df = pd.read_csv('../fields-data/new_fields_500.csv')\n",
    "field_bounds_str = df.iloc[5]['geometry_coordinates']\n",
    "field_bounds_str[:30]"
   ]
  },
  {
   "cell_type": "code",
   "execution_count": null,
   "id": "bffaa587-f6a1-4c61-a2ed-bb6b953f5b27",
   "metadata": {},
   "outputs": [],
   "source": [
    "bound_path = np.array(get_bounds_from_string(field_bounds_str)[0])[:,:2]\n",
    "bound_path2 = np.array(get_bounds_from_string(field_bounds_str)[1])[:,:2]\n",
    "LineString(bound_path).union(LineString(bound_path2))"
   ]
  },
  {
   "cell_type": "code",
   "execution_count": null,
   "id": "e7c180d9-9067-45f6-8854-8b52091f46fd",
   "metadata": {},
   "outputs": [],
   "source": [
    "len(bound_path)"
   ]
  },
  {
   "cell_type": "code",
   "execution_count": null,
   "id": "efbd4c20-0e40-4f0c-9e30-c4f53c47b653",
   "metadata": {},
   "outputs": [],
   "source": [
    "# start_point = np.array([50.067829, 23.983841])[::-1]\n",
    "path = np.concatenate([\n",
    "    np.linspace([50.041046, 24.544801], [50.040669, 24.548822], 300),\n",
    "    np.linspace([50.040497, 24.548638], [50.040834, 24.544704], 300),\n",
    "    np.linspace([50.040605, 24.544640], [50.040235, 24.548363], 300),\n",
    "    np.linspace([50.040019, 24.548111], [50.040353, 24.544593], 300),\n",
    "    np.linspace([50.040113, 24.544453], [50.039806, 24.547839], 300),\n",
    "    np.linspace([50.039593, 24.547494], [50.039902, 24.544301], 300),\n",
    "    np.linspace([50.039763, 24.544219], [50.039473, 24.547330], 300)\n",
    "])\n",
    "\n",
    "\n",
    "diff_lat = np.random.uniform(-0.000002, 0.000002, 2100)*2\n",
    "diff_lon = np.random.uniform(-0.000001, 0.000001, 2100)*2\n",
    "# diff_lon = np.zeros(2100)\n",
    "\n",
    "# path = [start_point]\n",
    "# for dx, dy in zip(diff_x, diff_y):\n",
    "#     path.append(path[-1] + np.array([dx, dy]))\n",
    "# path = np.array(path)\n",
    "\n",
    "# linepath = LineString(path)\n",
    "# linepath.union(LineString(bound_path))\n",
    "path = path + np.array([diff_lat, diff_lon]).T"
   ]
  },
  {
   "cell_type": "markdown",
   "id": "67b699f1-7d1f-4a27-be7a-eaa79b812aa2",
   "metadata": {
    "tags": []
   },
   "source": [
    "# Time test for 3 consecutive 300-coordinate tracks "
   ]
  },
  {
   "cell_type": "code",
   "execution_count": null,
   "id": "81ac3c61-5a46-49c8-8b18-bce4683ad7ac",
   "metadata": {},
   "outputs": [],
   "source": [
    "path = path[:,::-1]"
   ]
  },
  {
   "cell_type": "code",
   "execution_count": null,
   "id": "cb67795b-7975-4ae4-91f2-dc1aafd94585",
   "metadata": {},
   "outputs": [],
   "source": [
    "# parameters\n",
    "# path = bound_path\n",
    "\n",
    "track_len = 300\n",
    "\n",
    "tool_width = 0\n",
    "time = np.ones(track_len)\n",
    "\n",
    "track_lon, track_lat = list(path[:track_len].T)"
   ]
  },
  {
   "cell_type": "code",
   "execution_count": null,
   "id": "de6905dc-64f2-41e6-a52b-13dd2eb69ad6",
   "metadata": {},
   "outputs": [],
   "source": [
    "len(path)"
   ]
  },
  {
   "cell_type": "code",
   "execution_count": null,
   "id": "ed249c95-3450-4a9e-baf6-f327c5425d1b",
   "metadata": {},
   "outputs": [],
   "source": [
    "LineString(path+np.array([diff_lat, diff_lon]).T)"
   ]
  },
  {
   "cell_type": "markdown",
   "id": "d50c0b6c-435b-4b3c-918a-64fb1a48ba09",
   "metadata": {
    "tags": []
   },
   "source": [
    "## First 300 coords"
   ]
  },
  {
   "cell_type": "code",
   "execution_count": null,
   "id": "6409d36c-529b-4da3-ad58-e3f1ca339aff",
   "metadata": {},
   "outputs": [],
   "source": [
    "%%time\n",
    "first_300 = get_area_and_distance(\n",
    "    tool_width=tool_width,\n",
    "    gps_m_deviation=1,\n",
    "    \n",
    "    time=time,\n",
    "    track_lat=track_lat,\n",
    "    track_lon=track_lon,\n",
    "    \n",
    "    field_bounds_str=field_bounds_str\n",
    ")"
   ]
  },
  {
   "cell_type": "markdown",
   "id": "b1b5b398-9e39-48de-9ffe-d0d5da2bb09f",
   "metadata": {},
   "source": [
    "## Second 300 coords"
   ]
  },
  {
   "cell_type": "code",
   "execution_count": null,
   "id": "d021595f-54a4-411d-80f0-fc0d616a1857",
   "metadata": {},
   "outputs": [],
   "source": [
    "track_lon, track_lat = path[track_len : track_len*2].T\n",
    "# track_lon, track_lat = path[track_len : ].T"
   ]
  },
  {
   "cell_type": "code",
   "execution_count": null,
   "id": "8d7281f7-666f-4d68-bcc7-7950f8a8303f",
   "metadata": {},
   "outputs": [],
   "source": [
    "%%time\n",
    "second_300 = get_area_and_distance(\n",
    "    tool_width=tool_width,\n",
    "    gps_m_deviation=1,\n",
    "    \n",
    "    time=track_lat,\n",
    "    track_lat=track_lat,\n",
    "    track_lon=track_lon,\n",
    "    \n",
    "    field_bounds_str=field_bounds_str,\n",
    "    encoded_field_polygon=first_300['encoded_field_polygon'],\n",
    "    encoded_calculated_track=first_300['encoded_calculated_track'],\n",
    "    gps_geozone_num=first_300['gps_geozone_num'],\n",
    "    gps_geozone_let=first_300['gps_geozone_let'],\n",
    "    last_point_xy=first_300['last_point_xy'],\n",
    "    last_path_distance=first_300['path_distance'][-1],\n",
    ")"
   ]
  },
  {
   "cell_type": "markdown",
   "id": "bc07f9e5-bfde-457c-9d5c-7a4d890ceacd",
   "metadata": {},
   "source": [
    "## Third 300 coords"
   ]
  },
  {
   "cell_type": "code",
   "execution_count": null,
   "id": "e80393ac-a689-46e9-9f6e-69ccd8689c0e",
   "metadata": {},
   "outputs": [],
   "source": [
    "track_lon, track_lat = path[track_len*2 :track_len*3].T\n",
    "time = track_lon"
   ]
  },
  {
   "cell_type": "code",
   "execution_count": null,
   "id": "2ce6f708-9a21-40fa-9de5-70ac1c748215",
   "metadata": {},
   "outputs": [],
   "source": [
    "%%time\n",
    "third_300 = get_area_and_distance(\n",
    "    tool_width=tool_width,\n",
    "    gps_m_deviation=1,\n",
    "    \n",
    "    time=time,\n",
    "    track_lat=track_lat,\n",
    "    track_lon=track_lon,\n",
    "    \n",
    "    field_bounds_str=field_bounds_str,\n",
    "    encoded_field_polygon=second_300['encoded_field_polygon'],\n",
    "    encoded_calculated_track=second_300['encoded_calculated_track'],\n",
    "    gps_geozone_num=second_300['gps_geozone_num'],\n",
    "    gps_geozone_let=second_300['gps_geozone_let'],\n",
    "    last_point_xy=second_300['last_point_xy'],\n",
    "    last_path_distance=second_300['path_distance'][-1],\n",
    ")"
   ]
  },
  {
   "cell_type": "markdown",
   "id": "b101e879-30ea-4d7b-ba4f-6b256680213e",
   "metadata": {},
   "source": [
    "## Fourth 300 coords"
   ]
  },
  {
   "cell_type": "code",
   "execution_count": null,
   "id": "fffcbb96-c8c3-4bd6-99b4-d42da54c188f",
   "metadata": {},
   "outputs": [],
   "source": [
    "track_lon, track_lat = path[track_len*3 :track_len*4].T\n",
    "time = track_lon"
   ]
  },
  {
   "cell_type": "code",
   "execution_count": null,
   "id": "43feaf78-7268-46f3-bf72-8d5574db9314",
   "metadata": {},
   "outputs": [],
   "source": [
    "%%time\n",
    "fourth_300 = get_area_and_distance(\n",
    "    tool_width=tool_width,\n",
    "    gps_m_deviation=1,\n",
    "    \n",
    "    time=time,\n",
    "    track_lat=track_lat,\n",
    "    track_lon=track_lon,\n",
    "    \n",
    "    field_bounds_str=field_bounds_str,\n",
    "    encoded_field_polygon=third_300['encoded_field_polygon'],\n",
    "    encoded_calculated_track=third_300['encoded_calculated_track'],\n",
    "    gps_geozone_num=third_300['gps_geozone_num'],\n",
    "    gps_geozone_let=third_300['gps_geozone_let'],\n",
    "    last_point_xy=third_300['last_point_xy'],\n",
    "    last_path_distance=third_300['path_distance'][-1],\n",
    ")"
   ]
  },
  {
   "cell_type": "markdown",
   "id": "8c0c522c-c39c-4bea-9c90-5bdc8aa8cf2e",
   "metadata": {},
   "source": [
    "## Fifth 300 coords"
   ]
  },
  {
   "cell_type": "code",
   "execution_count": null,
   "id": "e96b91a6-5680-4a08-9ec5-a8c3b7749c88",
   "metadata": {},
   "outputs": [],
   "source": [
    "track_lon, track_lat = path[track_len*4 :track_len*5].T\n",
    "time = track_lon"
   ]
  },
  {
   "cell_type": "code",
   "execution_count": null,
   "id": "4310cf7f-f612-4f89-a5b3-23ad32501f16",
   "metadata": {},
   "outputs": [],
   "source": [
    "%%time\n",
    "fifth_300 = get_area_and_distance(\n",
    "    tool_width=tool_width,\n",
    "    gps_m_deviation=1,\n",
    "    \n",
    "    time=time,\n",
    "    track_lat=track_lat,\n",
    "    track_lon=track_lon,\n",
    "    \n",
    "    field_bounds_str=field_bounds_str,\n",
    "    encoded_field_polygon=fourth_300['encoded_field_polygon'],\n",
    "    encoded_calculated_track=fourth_300['encoded_calculated_track'],\n",
    "    gps_geozone_num=fourth_300['gps_geozone_num'],\n",
    "    gps_geozone_let=fourth_300['gps_geozone_let'],\n",
    "    last_point_xy=fourth_300['last_point_xy'],\n",
    "    last_path_distance=fourth_300['path_distance'][-1],\n",
    ")"
   ]
  },
  {
   "cell_type": "markdown",
   "id": "f24db71a-ab39-4bbd-bc1a-29bd4aef95ea",
   "metadata": {},
   "source": [
    "## Sixth 300 coords"
   ]
  },
  {
   "cell_type": "code",
   "execution_count": null,
   "id": "ecad178f-e541-4f36-ad2e-e576e08fefcc",
   "metadata": {},
   "outputs": [],
   "source": [
    "track_lon, track_lat = path[track_len*5 :track_len*6].T\n",
    "time = track_lon"
   ]
  },
  {
   "cell_type": "code",
   "execution_count": null,
   "id": "ae7fda63-c541-4fe4-83db-e383f06217b6",
   "metadata": {},
   "outputs": [],
   "source": [
    "%%time\n",
    "sixth_300 = get_area_and_distance(\n",
    "    tool_width=tool_width,\n",
    "    gps_m_deviation=1,\n",
    "    \n",
    "    time=time,\n",
    "    track_lat=track_lat,\n",
    "    track_lon=track_lon,\n",
    "    \n",
    "    field_bounds_str=field_bounds_str,\n",
    "    encoded_field_polygon=fifth_300['encoded_field_polygon'],\n",
    "    encoded_calculated_track=fifth_300['encoded_calculated_track'],\n",
    "    gps_geozone_num=fifth_300['gps_geozone_num'],\n",
    "    gps_geozone_let=fifth_300['gps_geozone_let'],\n",
    "    last_point_xy=fifth_300['last_point_xy'],\n",
    "    last_path_distance=fifth_300['path_distance'][-1],\n",
    ")"
   ]
  },
  {
   "cell_type": "markdown",
   "id": "a1bb0a44-d396-45cb-b7a2-b88410b75a89",
   "metadata": {},
   "source": [
    "## Seventh 300 coords"
   ]
  },
  {
   "cell_type": "code",
   "execution_count": null,
   "id": "1f88648e-f083-41e6-a633-06744bfd5574",
   "metadata": {},
   "outputs": [],
   "source": [
    "track_lon, track_lat = path[track_len*6 :].T\n",
    "time = track_lon"
   ]
  },
  {
   "cell_type": "code",
   "execution_count": null,
   "id": "8decc72e-dbad-4df2-8e48-cc4fde6444dd",
   "metadata": {},
   "outputs": [],
   "source": [
    "%%time\n",
    "seventh_300 = get_area_and_distance(\n",
    "    tool_width=tool_width,\n",
    "    gps_m_deviation=1,\n",
    "    \n",
    "    time=time,\n",
    "    track_lat=track_lat,\n",
    "    track_lon=track_lon,\n",
    "    \n",
    "    field_bounds_str=field_bounds_str,\n",
    "    encoded_field_polygon=sixth_300['encoded_field_polygon'],\n",
    "    encoded_calculated_track=sixth_300['encoded_calculated_track'],\n",
    "    gps_geozone_num=sixth_300['gps_geozone_num'],\n",
    "    gps_geozone_let=sixth_300['gps_geozone_let'],\n",
    "    last_point_xy=sixth_300['last_point_xy'],\n",
    "    last_path_distance=sixth_300['path_distance'][-1],\n",
    ")"
   ]
  },
  {
   "cell_type": "markdown",
   "id": "d09475fd-f7d8-47c0-af28-2928fa78577f",
   "metadata": {},
   "source": [
    "### Calculated track area comparison"
   ]
  },
  {
   "cell_type": "code",
   "execution_count": null,
   "id": "ab281dd7-93ea-4b2f-8931-d221b8005a1e",
   "metadata": {},
   "outputs": [],
   "source": [
    "%%time\n",
    "first_track = wkt.loads(first_300['encoded_calculated_track'])"
   ]
  },
  {
   "cell_type": "code",
   "execution_count": null,
   "id": "7f3defad-6a5b-4cf5-9c21-9c298cf4b615",
   "metadata": {},
   "outputs": [],
   "source": [
    "%%time\n",
    "second_track = wkt.loads(second_300['encoded_calculated_track'])"
   ]
  },
  {
   "cell_type": "code",
   "execution_count": null,
   "id": "7ef9045f-9c3a-4d94-9c2b-feb941377a92",
   "metadata": {},
   "outputs": [],
   "source": [
    "%%time\n",
    "third_track = wkt.loads(third_300['encoded_calculated_track'])"
   ]
  },
  {
   "cell_type": "code",
   "execution_count": null,
   "id": "06dd0c69-0768-4d9a-b581-4ec166bd1958",
   "metadata": {},
   "outputs": [],
   "source": [
    "%%time\n",
    "fourth_track = wkt.loads(fourth_300['encoded_calculated_track'])"
   ]
  },
  {
   "cell_type": "code",
   "execution_count": null,
   "id": "7123213a-0b52-4e60-bf84-38dd1fb61b22",
   "metadata": {},
   "outputs": [],
   "source": [
    "%%time\n",
    "fifth_track = wkt.loads(fifth_300['encoded_calculated_track'])"
   ]
  },
  {
   "cell_type": "code",
   "execution_count": null,
   "id": "03c7011e-8cab-4cb7-bfd4-b1c1c58e27db",
   "metadata": {},
   "outputs": [],
   "source": [
    "%%time\n",
    "sixth_track = wkt.loads(sixth_300['encoded_calculated_track'])"
   ]
  },
  {
   "cell_type": "code",
   "execution_count": null,
   "id": "4c8bbb21-0be5-4e11-ad07-b444e4b1b61c",
   "metadata": {},
   "outputs": [],
   "source": [
    "%%time\n",
    "seventh_track = wkt.loads(seventh_300['encoded_calculated_track'])"
   ]
  },
  {
   "cell_type": "code",
   "execution_count": null,
   "id": "42749aba-dcc6-4549-8873-f12bdafa9b02",
   "metadata": {},
   "outputs": [],
   "source": [
    "%%time\n",
    "field_poly = wkt.loads(first_300['encoded_field_polygon'])"
   ]
  },
  {
   "cell_type": "code",
   "execution_count": null,
   "id": "7c4cb9b1-cfd7-4c58-837f-51bdf3b1fb2b",
   "metadata": {},
   "outputs": [],
   "source": [
    "first_track"
   ]
  },
  {
   "cell_type": "code",
   "execution_count": null,
   "id": "bbbd96f4-0e22-4ef7-98b2-16c9dd4967a0",
   "metadata": {},
   "outputs": [],
   "source": [
    "second_track"
   ]
  },
  {
   "cell_type": "code",
   "execution_count": null,
   "id": "0b8219c1-d9a3-42f7-af5f-715249139875",
   "metadata": {},
   "outputs": [],
   "source": [
    "third_track"
   ]
  },
  {
   "cell_type": "code",
   "execution_count": null,
   "id": "1d4b27ec-8995-4ac5-b2ab-e77b026e2231",
   "metadata": {},
   "outputs": [],
   "source": [
    "field_poly"
   ]
  },
  {
   "cell_type": "code",
   "execution_count": null,
   "id": "9b7d902b-c9b5-4d3a-9917-2eb93b8fc4a8",
   "metadata": {},
   "outputs": [],
   "source": [
    "first_track.area, field_poly.intersection(first_track).area, first_300['path_distance'][-1]"
   ]
  },
  {
   "cell_type": "code",
   "execution_count": null,
   "id": "40f68bff-a3cc-4ee8-afc6-428462551364",
   "metadata": {},
   "outputs": [],
   "source": [
    "second_track.area, field_poly.intersection(second_track).area"
   ]
  },
  {
   "cell_type": "code",
   "execution_count": null,
   "id": "ffe72b52-d708-4cd1-8e91-680950ae6517",
   "metadata": {},
   "outputs": [],
   "source": [
    "third_track.area, field_poly.intersection(third_track).area"
   ]
  },
  {
   "cell_type": "code",
   "execution_count": null,
   "id": "3a0da277-63ce-4670-8d0f-7a72047a708a",
   "metadata": {},
   "outputs": [],
   "source": [
    "fourth_track.area, field_poly.intersection(fourth_track).area"
   ]
  },
  {
   "cell_type": "code",
   "execution_count": null,
   "id": "3a4e7a5b-cbf7-4f2c-816e-c917c0b6026c",
   "metadata": {},
   "outputs": [],
   "source": [
    "fifth_track.area, field_poly.intersection(fifth_track).area"
   ]
  },
  {
   "cell_type": "code",
   "execution_count": null,
   "id": "5921489e-604d-431e-b0e7-3568734019e2",
   "metadata": {},
   "outputs": [],
   "source": [
    "sixth_track.area, field_poly.intersection(sixth_track).area"
   ]
  },
  {
   "cell_type": "code",
   "execution_count": null,
   "id": "a8f48a9f-c29e-4255-bac9-f122869214f7",
   "metadata": {},
   "outputs": [],
   "source": [
    "seventh_track.area, field_poly.intersection(seventh_track).area"
   ]
  },
  {
   "cell_type": "code",
   "execution_count": null,
   "id": "1776d6fc-479e-4150-8934-0ed883ecdabb",
   "metadata": {},
   "outputs": [],
   "source": [
    "seventh_track"
   ]
  },
  {
   "cell_type": "code",
   "execution_count": null,
   "id": "aba0270b-caa2-4d97-9160-a2f1632004f1",
   "metadata": {},
   "outputs": [],
   "source": [
    "fourth_300['path_distance']"
   ]
  },
  {
   "cell_type": "code",
   "execution_count": null,
   "id": "4731e946-699e-4f4f-be94-ee21a964d029",
   "metadata": {},
   "outputs": [],
   "source": []
  },
  {
   "cell_type": "code",
   "execution_count": null,
   "id": "7f9a9842-fa70-49e5-b726-69fc7b150626",
   "metadata": {},
   "outputs": [],
   "source": []
  }
 ],
 "metadata": {
  "kernelspec": {
   "display_name": "Python 3 (ipykernel)",
   "language": "python",
   "name": "python3"
  },
  "language_info": {
   "codemirror_mode": {
    "name": "ipython",
    "version": 3
   },
   "file_extension": ".py",
   "mimetype": "text/x-python",
   "name": "python",
   "nbconvert_exporter": "python",
   "pygments_lexer": "ipython3",
   "version": "3.8.8"
  }
 },
 "nbformat": 4,
 "nbformat_minor": 5
}
